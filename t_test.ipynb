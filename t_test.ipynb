{
  "nbformat": 4,
  "nbformat_minor": 0,
  "metadata": {
    "colab": {
      "private_outputs": true,
      "provenance": [],
      "authorship_tag": "ABX9TyPiclXiCzVmJUTB+Ng5cLJC",
      "include_colab_link": true
    },
    "kernelspec": {
      "name": "python3",
      "display_name": "Python 3"
    },
    "language_info": {
      "name": "python"
    }
  },
  "cells": [
    {
      "cell_type": "markdown",
      "metadata": {
        "id": "view-in-github",
        "colab_type": "text"
      },
      "source": [
        "<a href=\"https://colab.research.google.com/github/Ritik-06101997/Statistics/blob/main/t_test.ipynb\" target=\"_parent\"><img src=\"https://colab.research.google.com/assets/colab-badge.svg\" alt=\"Open In Colab\"/></a>"
      ]
    },
    {
      "cell_type": "code",
      "execution_count": null,
      "metadata": {
        "id": "UHNKJ1x0C0zW"
      },
      "outputs": [],
      "source": [
        "import numpy as np\n",
        "import pandas as pd\n",
        "import seaborn as sns\n",
        "import matplotlib.pyplot as plt\n",
        "plt.style.use('fivethirtyeight')\n",
        "import warnings\n",
        "warnings.filterwarnings('ignore')\n",
        "from scipy.stats import ttest_ind"
      ]
    },
    {
      "cell_type": "code",
      "source": [
        "cereal= pd.read_csv(\"cereal.csv\")\n",
        "cereal.head()"
      ],
      "metadata": {
        "id": "y8tPSEoxEu3Z"
      },
      "execution_count": null,
      "outputs": []
    },
    {
      "cell_type": "code",
      "source": [
        "hot_cereal= cereal.loc[cereal['type']==\"H\",:] # define hot cereal df\n",
        "cold_cereal= cereal.loc[cereal['type']==\"C\",:] # define cold cereal df\n",
        "hot_cereal"
      ],
      "metadata": {
        "id": "5RmQq6hBE7XA"
      },
      "execution_count": null,
      "outputs": []
    },
    {
      "cell_type": "code",
      "source": [
        "ttest_ind(cold_cereal['sugars'], hot_cereal['sugars'],equal_var=False)"
      ],
      "metadata": {
        "id": "gkokhO5hLq72"
      },
      "execution_count": null,
      "outputs": []
    },
    {
      "cell_type": "code",
      "source": [
        "ttest_ind(cold_cereal['calories'], hot_cereal['calories'],equal_var=False)"
      ],
      "metadata": {
        "id": "Moyqm-CFMzG5"
      },
      "execution_count": null,
      "outputs": []
    },
    {
      "cell_type": "code",
      "source": [
        "#let's visualize\n",
        "ax= plt.subplots(figsize=(18,8)) # make our larger\n",
        "# Plot the cold cereal sugar distribution\n",
        "sns.distplot(cold_cereal['sugars'], bins=10, hist=True, label='cold')\n",
        "# Plot the hot cereal sugar distribution\n",
        "sns.distplot(hot_cereal['sugars'], bins=10, hist=True, label='hot')\n",
        "plt.legend()\n",
        "plt.show()"
      ],
      "metadata": {
        "id": "11uJCUhBOLNC"
      },
      "execution_count": null,
      "outputs": []
    },
    {
      "cell_type": "code",
      "source": [],
      "metadata": {
        "id": "iWc3SMOKOLdy"
      },
      "execution_count": null,
      "outputs": []
    }
  ]
}