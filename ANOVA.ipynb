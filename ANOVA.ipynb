{
  "nbformat": 4,
  "nbformat_minor": 0,
  "metadata": {
    "colab": {
      "private_outputs": true,
      "provenance": [],
      "authorship_tag": "ABX9TyOX7rOMR4S6a4/PCSLcvpv8",
      "include_colab_link": true
    },
    "kernelspec": {
      "name": "python3",
      "display_name": "Python 3"
    },
    "language_info": {
      "name": "python"
    }
  },
  "cells": [
    {
      "cell_type": "markdown",
      "metadata": {
        "id": "view-in-github",
        "colab_type": "text"
      },
      "source": [
        "<a href=\"https://colab.research.google.com/github/Ritik-06101997/Statistics/blob/main/ANOVA.ipynb\" target=\"_parent\"><img src=\"https://colab.research.google.com/assets/colab-badge.svg\" alt=\"Open In Colab\"/></a>"
      ]
    },
    {
      "cell_type": "code",
      "execution_count": null,
      "metadata": {
        "id": "2x1O6crilcFB"
      },
      "outputs": [],
      "source": [
        "import numpy as np\n",
        "import pandas as pd\n",
        "import matplotlib.pyplot as plt"
      ]
    },
    {
      "cell_type": "code",
      "source": [
        "data=pd.read_csv(\"PlantGrowth.csv\")\n",
        "data.head(5)"
      ],
      "metadata": {
        "id": "_dc1ToyBmjXz"
      },
      "execution_count": null,
      "outputs": []
    },
    {
      "cell_type": "code",
      "source": [
        "data.boxplot(\"weight\",by=\"group\",figsize=(16,8))\n",
        "plt.show()"
      ],
      "metadata": {
        "id": "0Isrsxl2m_4V"
      },
      "execution_count": null,
      "outputs": []
    },
    {
      "cell_type": "markdown",
      "source": [
        "# ANOVA TEST"
      ],
      "metadata": {
        "id": "vYe1NVGi1RAb"
      }
    },
    {
      "cell_type": "code",
      "source": [
        "import statsmodels.api as sm\n",
        "from statsmodels.formula.api import ols\n",
        "mod= ols('weight~group',data=data).fit()\n",
        "aov_table= sm.stats.anova_lm(mod, typ=2)\n",
        "print(aov_table)"
      ],
      "metadata": {
        "id": "EeP3MtyDndME"
      },
      "execution_count": null,
      "outputs": []
    },
    {
      "cell_type": "markdown",
      "source": [
        "# Tukey's TEST"
      ],
      "metadata": {
        "id": "CfE-fqER2jt6"
      }
    },
    {
      "cell_type": "code",
      "source": [
        "from statsmodels.stats.multicomp import MultiComparison\n",
        "from statsmodels.stats.multicomp import pairwise_tukeyhsd\n",
        "mc= MultiComparison(data['weight'],data['group'])\n",
        "result=mc.tukeyhsd()\n",
        "print(result)\n",
        "print(mc.groupsunique)"
      ],
      "metadata": {
        "id": "DMUia8ja2ggY"
      },
      "execution_count": null,
      "outputs": []
    }
  ]
}